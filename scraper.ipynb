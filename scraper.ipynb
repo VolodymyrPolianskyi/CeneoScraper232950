{
 "cells": [
  {
   "attachments": {},
   "cell_type": "markdown",
   "metadata": {},
   "source": [
    "# Ceneo scraper"
   ]
  },
  {
   "attachments": {},
   "cell_type": "markdown",
   "metadata": {},
   "source": [
    "## Components of single opinion\n",
    "\n",
    "|Component|Selector|Variable|\n",
    "|---------|--------|--------|\n",
    "|Opinion ID|page_dom['data-entry-id']|opinion_id|\n",
    "|opinion’s author|page_dom.select('span.user-post__author-name')|author|\n",
    "|author’s recommendation|page_dom.select(\".user-post__author-recomendation > em\")|reccomendation|\n",
    "|score expressed in number of stars|page_dom.select(\".user-post__score-count\")|score|\n",
    "|opinion’s content|page_dom.select(\".user-post__text\")|content|\n",
    "|list of product advantages|page_dom.select(\".review-feature__title--positives ~ review-feature__item\")|pros|\n",
    "|list of product disadvantages|page_dom.select(\".review-feature__title--negatives ~ review-feature__item\"\")|cons|\n",
    "|how many users think that opinion was helpful|span[id^=\"votes-yes\"]|helpful|\n",
    "|how many users think that opinion was unhelpful|span[id^=\"votes-no\"]|unhelpful|\n",
    "|publishing date|('span.user-post__published > time:nth-child(1)['datetime']')|publish_date|\n",
    "|purchase date|('span.user-post__published > time:nth-child(2)['datetime']')|purchase_date|"
   ]
  },
  {
   "attachments": {},
   "cell_type": "markdown",
   "metadata": {},
   "source": [
    "## Structure of single opinion"
   ]
  },
  {
   "cell_type": "code",
   "execution_count": 9,
   "metadata": {},
   "outputs": [],
   "source": [
    "selectors = {\n",
    "\"opinion_id\" :  [None , 'data-entry-id'],\n",
    "\"author\" :  ['span.user-post__author-name'],\n",
    "\"recomendation\" :  [\".user-post__author-recomendation > em\"],\n",
    "\"score\" :  [\"span.user-post__score-count\"],\n",
    "\"content\" :  [\".user-post__text\"],\n",
    "\"pros\" :  [\"div.review-feature__title--positives ~ div.review-feature__item\", None , True,],\n",
    "\"cons\" :  [\"div.review-feature__title--negatives ~ div.review-feature__item\", None , True,],\n",
    "\"helpful\" :  ['button.vote-yes > span'],\n",
    "\"unhelpful\" : [ 'button.vote-no > span'],\n",
    "\"publish\" :  ['span.user-post__published > time:nth-child(1)' , 'datetime'],\n",
    "\"purchase\" :  [\"span.user-post__published > time:nth-child(2)\" , 'datetime']\n",
    "}"
   ]
  },
  {
   "attachments": {},
   "cell_type": "markdown",
   "metadata": {},
   "source": [
    "## loading lirbraries"
   ]
  },
  {
   "cell_type": "code",
   "execution_count": 10,
   "metadata": {},
   "outputs": [],
   "source": [
    "import requests\n",
    "from bs4 import BeautifulSoup"
   ]
  },
  {
   "attachments": {},
   "cell_type": "markdown",
   "metadata": {},
   "source": [
    "## Function to extract data from html code"
   ]
  },
  {
   "cell_type": "code",
   "execution_count": 15,
   "metadata": {},
   "outputs": [],
   "source": [
    "def extract(ancestor, selector, attribute = None , return_list = False):\n",
    "    if return_list:\n",
    "        if attribute:\n",
    "            return [p[attribute] for p in ancestor.select(selector)]\n",
    "        return [p.get_text().strip() for p in ancestor.select(selector)]\n",
    "    if selector:\n",
    "        if attribute:\n",
    "            try:\n",
    "                return ancestor.select_one(selector)[attribute]\n",
    "            except TypeError:\n",
    "                return  None\n",
    "        try:\n",
    "            return ancestor.select_one(selector).get_text().strip()\n",
    "        except AttributeError:\n",
    "            return None\n",
    "    if attribute:\n",
    "        return ancestor[attribute]\n",
    "    return None"
   ]
  },
  {
   "attachments": {},
   "cell_type": "markdown",
   "metadata": {},
   "source": [
    "## Sending request to Ceneo.pl server"
   ]
  },
  {
   "cell_type": "code",
   "execution_count": 12,
   "metadata": {},
   "outputs": [],
   "source": [
    "product_id = '97571150;02517'\n",
    "url = f\"https://www.ceneo.pl/{product_id}#tab=reviews\"\n",
    "response = requests.get(url)\n"
   ]
  },
  {
   "attachments": {},
   "cell_type": "markdown",
   "metadata": {},
   "source": [
    "## Extracting opinions from html code"
   ]
  },
  {
   "cell_type": "code",
   "execution_count": 13,
   "metadata": {},
   "outputs": [],
   "source": [
    "page_dom = BeautifulSoup(response.text , 'html.parser')\n",
    "opinions = page_dom.select('.js_product-review')\n",
    "opinion = page_dom.select_one('.js_product-review')"
   ]
  },
  {
   "attachments": {},
   "cell_type": "markdown",
   "metadata": {},
   "source": [
    "## Extracting components from single opinion\n"
   ]
  },
  {
   "cell_type": "code",
   "execution_count": 16,
   "metadata": {},
   "outputs": [],
   "source": [
    "single_opinion = {\n",
    "    key : extract(opinion , *value)\n",
    "        for key, value in selectors.items()\n",
    "}"
   ]
  }
 ],
 "metadata": {
  "kernelspec": {
   "display_name": ".venv",
   "language": "python",
   "name": "python3"
  },
  "language_info": {
   "codemirror_mode": {
    "name": "ipython",
    "version": 3
   },
   "file_extension": ".py",
   "mimetype": "text/x-python",
   "name": "python",
   "nbconvert_exporter": "python",
   "pygments_lexer": "ipython3",
   "version": "3.11.4"
  },
  "orig_nbformat": 4
 },
 "nbformat": 4,
 "nbformat_minor": 2
}
