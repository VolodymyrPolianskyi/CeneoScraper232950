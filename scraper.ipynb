{
 "cells": [
  {
   "attachments": {},
   "cell_type": "markdown",
   "metadata": {},
   "source": [
    "# Ceneo scraper"
   ]
  },
  {
   "attachments": {},
   "cell_type": "markdown",
   "metadata": {},
   "source": [
    "## loading lirbraries"
   ]
  },
  {
   "cell_type": "code",
   "execution_count": 6,
   "metadata": {},
   "outputs": [],
   "source": [
    "import requests\n",
    "from bs4 import BeautifulSoup"
   ]
  },
  {
   "attachments": {},
   "cell_type": "markdown",
   "metadata": {},
   "source": [
    "## Sending request to Ceneo.pl server"
   ]
  },
  {
   "cell_type": "code",
   "execution_count": 5,
   "metadata": {},
   "outputs": [],
   "source": [
    "product_id = '97571150;02517'\n",
    "url = f\"https://www.ceneo.pl/{product_id}#tab=reviews\"\n",
    "response = requests.get(url)\n"
   ]
  },
  {
   "cell_type": "code",
   "execution_count": null,
   "metadata": {},
   "outputs": [],
   "source": [
    "page_dom = BeautifulSoup(response.text , 'html.parser')\n",
    "opinions = page_dom.select('.js_product-review')\n",
    "opinion = page_dom.select_one('.js_product-review')\n",
    "print(opinions)"
   ]
  },
  {
   "attachments": {},
   "cell_type": "markdown",
   "metadata": {},
   "source": [
    "##\n",
    "\n",
    "|Component|Selector|Variable|\n",
    "|---------|--------|--------|\n",
    "|Opinion ID|page_dom['data-entry-id']|opinion_id|\n",
    "|opinion’s author|page_dom.select('span.user-post__author-name')|author|\n",
    "|author’s recommendation|page_dom.select(\".user-post__author-recomendation > em\")|reccomendation|\n",
    "|score expressed in number of stars|page_dom.select(\".user-post__score-count\")|score|\n",
    "|opinion’s content|page_dom.select(\".user-post__text\")|content|\n",
    "|list of product advantages|page_dom.select(\".review-feature__title--positives ~ review-feature__item\")|pros|\n",
    "|list of product disadvantages|page_dom.select(\".review-feature__title--negatives ~ review-feature__item\"\")|cons|\n",
    "|how many users think that opinion was helpful|span[id^=\"votes-yes\"]|helpful|\n",
    "|how many users think that opinion was unhelpful|span[id^=\"votes-no\"]|unhelpful|\n",
    "|publishing date|('span.user-post__published > time:nth-child(1)['datetime']')|publish_date|\n",
    "|purchase date|('span.user-post__published > time:nth-child(2)['datetime']')|purchase_date|"
   ]
  },
  {
   "cell_type": "code",
   "execution_count": null,
   "metadata": {},
   "outputs": [],
   "source": [
    "opinion_id = opinion['data-entry-id']\n",
    "author = page_dom.select('span.user-post__author-name')\n",
    "reccomendation = page_dom.select(\".user-post__author-recomendation > em\")\n",
    "score = page_dom.select(\"span.user-post__score-count\")\n",
    "content = page_dom.select(\".user-post__text\")\n",
    "pros = page_dom.select(\".review-feature__title--positives ~ review-feature__item\")\n",
    "cons = page_dom.select(\".review-feature__title--negatives ~ review-feature__item\")\n",
    "helpful = page_dom.select('span[id^=\"votes-yes\"]')"
   ]
  }
 ],
 "metadata": {
  "kernelspec": {
   "display_name": ".venv",
   "language": "python",
   "name": "python3"
  },
  "language_info": {
   "codemirror_mode": {
    "name": "ipython",
    "version": 3
   },
   "file_extension": ".py",
   "mimetype": "text/x-python",
   "name": "python",
   "nbconvert_exporter": "python",
   "pygments_lexer": "ipython3",
   "version": "3.11.4"
  },
  "orig_nbformat": 4
 },
 "nbformat": 4,
 "nbformat_minor": 2
}
